{
 "cells": [
  {
   "cell_type": "code",
   "execution_count": 1,
   "source": [
    "import os \r\n",
    "import sys\r\n",
    "import torch\r\n",
    "import fasttext\r\n",
    "import fasttext.util"
   ],
   "outputs": [],
   "metadata": {}
  },
  {
   "cell_type": "code",
   "execution_count": 2,
   "source": [
    "def load_fasttext():\r\n",
    "    ft_path = '../data/fasttext'\r\n",
    "    ft_fname = os.path.join(ft_path, 'cc.en.300.bin')\r\n",
    "    if not os.path.exists(ft_fname):\r\n",
    "        print(\"Downloading fasttext model\")\r\n",
    "        temp_fname = fasttext.util.download_model(\r\n",
    "            \"en\", if_exists='ignore')\r\n",
    "        os.rename(temp_fname, ft_fname)\r\n",
    "        os.rename(temp_fname + '.gz', ft_fname + '.gz')\r\n",
    "\r\n",
    "    print(\"Loading fasttext model\")\r\n",
    "    return fasttext.load_model(ft_fname)\r\n",
    "\r\n",
    "fasttext_model = load_fasttext()"
   ],
   "outputs": [
    {
     "output_type": "stream",
     "name": "stdout",
     "text": [
      "Loading fasttext model\n"
     ]
    },
    {
     "output_type": "stream",
     "name": "stderr",
     "text": [
      "Warning : `load_model` does not return WordVectorModel or SupervisedModel any more, but a `FastText` object which is very similar.\n"
     ]
    }
   ],
   "metadata": {}
  },
  {
   "cell_type": "code",
   "execution_count": 3,
   "source": [
    "import json\r\n",
    "\r\n",
    "task_name = \"anaphora\"\r\n",
    "\r\n",
    "train_data = []\r\n",
    "with open(f'/content/tasks/data/{task_name}/train.jsonl', 'r') as json_file:\r\n",
    "    json_list = list(json_file)\r\n",
    "    for json_str in json_list:\r\n",
    "      result = json.loads(json_str)\r\n",
    "      train_data.append(result)\r\n",
    "print(train_data[0]['text'])\r\n",
    "\r\n",
    "val_data = []\r\n",
    "with open(f'/content/tasks/data/{task_name}/val.jsonl', 'r') as json_file:\r\n",
    "    json_list = list(json_file)\r\n",
    "    for json_str in json_list:\r\n",
    "      result = json.loads(json_str)\r\n",
    "      val_data.append(result)\r\n",
    "print(val_data[0]['text'])"
   ],
   "outputs": [
    {
     "output_type": "stream",
     "name": "stdout",
     "text": [
      "The technician told the customer that he could pay with cash.\n",
      "\n",
      "The appraiser told the buyer that they valued the painting at ten thousand dollars.\n",
      "\n"
     ]
    }
   ],
   "metadata": {}
  },
  {
   "cell_type": "code",
   "execution_count": 4,
   "source": [
    "def flatten_list(_2d_list):\r\n",
    "    flat_list = []\r\n",
    "    # Iterate through the outer list\r\n",
    "    for element in _2d_list:\r\n",
    "        if type(element) is list:\r\n",
    "            # If the element is of type list, iterate through the sublist\r\n",
    "            for item in element:\r\n",
    "                flat_list.append(item)\r\n",
    "        else:\r\n",
    "            flat_list.append(element)\r\n",
    "    return flat_list\r\n",
    "\r\n",
    "import pandas as pd\r\n",
    "\r\n",
    "val_df = pd.DataFrame(val_data)\r\n",
    "val_targets = val_df['targets']\r\n",
    "val_targets = flatten_list(val_targets)\r\n",
    "val_y_df = pd.DataFrame(val_targets)\r\n",
    "\r\n",
    "val_y_df['label'].value_counts()"
   ],
   "outputs": [
    {
     "output_type": "execute_result",
     "data": {
      "text/plain": [
       "unaligned    452\n",
       "aligned      428\n",
       "Name: label, dtype: int64"
      ]
     },
     "metadata": {},
     "execution_count": 4
    }
   ],
   "metadata": {}
  },
  {
   "cell_type": "code",
   "execution_count": 5,
   "source": [
    "from math import log2\r\n",
    "\r\n",
    "def entropy(classes):\r\n",
    "  total = sum(classes)\r\n",
    "  entropy = 0.0\r\n",
    "  for cls in classes:\r\n",
    "    entropy += (cls/total) * log2(cls/total)\r\n",
    "  return -entropy\r\n",
    "\r\n",
    "data_entropy = entropy([423,49,32])"
   ],
   "outputs": [],
   "metadata": {}
  },
  {
   "cell_type": "code",
   "execution_count": 6,
   "source": [
    "import string\r\n",
    "\r\n",
    "def tokenize(text):\r\n",
    "  text.translate(str.maketrans('', '', string.punctuation))\r\n",
    "  return text.split()\r\n",
    "\r\n",
    "train_words = [tokenize(example['text']) for example in train_data]\r\n",
    "val_words = [tokenize(example['text']) for example in val_data]"
   ],
   "outputs": [],
   "metadata": {}
  },
  {
   "cell_type": "code",
   "execution_count": 7,
   "source": [
    "def get_fasttext(fasttext_model, words):\r\n",
    "    embeddings = [[fasttext_model[word] for word in sentence] \r\n",
    "                  for sentence in words]\r\n",
    "    return embeddings\r\n",
    "\r\n",
    "train_fast_embeddings = get_fasttext(fasttext_model, train_words)\r\n",
    "val_fast_embeddings = get_fasttext(fasttext_model, val_words)"
   ],
   "outputs": [],
   "metadata": {}
  },
  {
   "cell_type": "code",
   "execution_count": 8,
   "source": [
    "output_fast_train = zip(train_fast_embeddings, train_words)\r\n",
    "output_fast_val = zip(val_fast_embeddings, val_words)"
   ],
   "outputs": [],
   "metadata": {}
  },
  {
   "cell_type": "code",
   "execution_count": 9,
   "source": [
    "import pickle\r\n",
    "\r\n",
    "os.makedirs(f\"./dataset/{task_name}/\", exist_ok=True)\r\n",
    "with open(f\"./dataset/{task_name}/output_fast_train\", \"wb\") as f:\r\n",
    "    pickle.dump(output_fast_train, f)\r\n",
    "with open(f\"./dataset/{task_name}/output_fast_val\", \"wb\") as f:\r\n",
    "    pickle.dump(output_fast_val, f)"
   ],
   "outputs": [],
   "metadata": {}
  },
  {
   "cell_type": "code",
   "execution_count": 11,
   "source": [
    "from data_load import get_data_loaders\r\n",
    "from trainer import get_model, save_checkpoints\r\n",
    "from trainer import train, eval_all\r\n",
    "\r\n",
    "trainloader, devloader, n_classes, n_words = get_data_loaders(\"anaphora\", \"onehot\", 600, 64)\r\n",
    "model = get_model(n_classes, n_words, \"onehot\", nlayers=1)\r\n",
    "\r\n",
    "train(trainloader, devloader, model, 16, 2000)\r\n",
    "train_results, dev_results = eval_all(model, trainloader, devloader)\r\n",
    "save_checkpoints(\"anaphora\", \"onehot\", model, train_results, dev_results)"
   ],
   "outputs": [
    {
     "output_type": "stream",
     "name": "stderr",
     "text": [
      "Training loss: 0.8938 Dev loss: 0.0163 acc: 0.4920: 100%|██████████| 2560/2560 [00:05<00:00, 472.02it/s]\n"
     ]
    },
    {
     "output_type": "stream",
     "name": "stdout",
     "text": [
      "Final loss. Train: 0.0148353585973382 Dev: 0.0158929955214262\n",
      "Final acc. Train: 0.5860000252723694 Dev: 0.5136363506317139\n",
      "I am a new code\n"
     ]
    }
   ],
   "metadata": {}
  },
  {
   "cell_type": "code",
   "execution_count": 2,
   "source": [
    "trainloader, devloader, n_classes, n_words = get_data_loaders(\"anaphora\", \"fasttext\", 600, 64)\r\n",
    "model = get_model(n_classes, n_words, \"onehot\")\r\n",
    "\r\n",
    "train(trainloader, devloader, model, 100, 2000)\r\n",
    "train_results, dev_results = eval_all(model, trainloader, devloader)\r\n",
    "save_checkpoints(\"anaphora\", \"fasttext\", model, train_results, dev_results)"
   ],
   "outputs": [
    {
     "output_type": "stream",
     "name": "stderr",
     "text": [
      "Training loss: 0.0380 Dev loss: 0.0110 acc: 0.8772: 100%|██████████| 2300/2300 [00:03<00:00, 634.65it/s]\n"
     ]
    },
    {
     "output_type": "stream",
     "name": "stdout",
     "text": [
      "Final loss. Train: 0.0016896856250241399 Dev: 0.00753244711086154\n",
      "Final acc. Train: 0.9789789915084839 Dev: 0.8532934188842773\n",
      "I am a new code\n"
     ]
    }
   ],
   "metadata": {}
  },
  {
   "cell_type": "code",
   "execution_count": null,
   "source": [
    "def information_probe(loss, loss_clt, entropy):\r\n",
    "  gain = loss_clt - loss\r\n",
    "  return round(gain, 3), round(gain/entropy, 3)"
   ],
   "outputs": [],
   "metadata": {}
  },
  {
   "cell_type": "code",
   "execution_count": null,
   "source": [
    "for loss in [0.211, 0.230, 0.231, 0.217, 0.167]:\r\n",
    "  onhot_info = information_probe(loss, 1.293, data_entropy)\r\n",
    "  fasttext_info = information_probe(loss, 1.264, data_entropy)\r\n",
    "  print((onhot_info, fasttext_info))"
   ],
   "outputs": [],
   "metadata": {}
  }
 ],
 "metadata": {
  "orig_nbformat": 4,
  "language_info": {
   "name": "python",
   "version": "3.8.5",
   "mimetype": "text/x-python",
   "codemirror_mode": {
    "name": "ipython",
    "version": 3
   },
   "pygments_lexer": "ipython3",
   "nbconvert_exporter": "python",
   "file_extension": ".py"
  },
  "kernelspec": {
   "name": "python3",
   "display_name": "Python 3.8.5 64-bit ('base': conda)"
  },
  "interpreter": {
   "hash": "183bbf6827d058c2a2fb0f4acdc0420849dda2b4380af0e437e38c64d798d8b7"
  }
 },
 "nbformat": 4,
 "nbformat_minor": 2
}