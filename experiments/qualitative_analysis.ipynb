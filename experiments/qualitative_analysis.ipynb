{
 "cells": [
  {
   "cell_type": "code",
   "execution_count": 10,
   "source": [
    "\r\n",
    "import nltk, re\r\n",
    "\r\n",
    "sentence = \"Amrozi accused his brother,whomhecalled 'the witness', of deliberatelydistorting his evidence.\"\r\n",
    "\r\n",
    "def get_type_token_ratio(sentence):\r\n",
    "  sentence = re.sub(r'[^\\w]', ' ', sentence).lower()\r\n",
    "  tokens = nltk.word_tokenize(sentence)\r\n",
    "  types = nltk.Counter(tokens)\r\n",
    "  return (len(types)/len(tokens)) * 100\r\n",
    "\r\n",
    "get_type_token_ratio(sentence)"
   ],
   "outputs": [
    {
     "output_type": "execute_result",
     "data": {
      "text/plain": [
       "90.9090909090909"
      ]
     },
     "metadata": {},
     "execution_count": 10
    }
   ],
   "metadata": {}
  },
  {
   "cell_type": "code",
   "execution_count": 7,
   "source": [
    "from nltk.tree import Tree\r\n",
    "from nltk.draw.tree import TreeWidget\r\n",
    "from nltk.draw.util import CanvasFrame, CanvasWidget, OvalWidget\r\n",
    "from nltk.draw.util import BoxWidget, TextWidget, ParenWidget\r\n",
    "\r\n",
    "def calc_words(t):\r\n",
    "    if type(t) == str:\r\n",
    "        return 1\r\n",
    "    else:\r\n",
    "        val = 0\r\n",
    "        for child in t:\r\n",
    "            val += calc_words(child)\r\n",
    "        return val\r\n",
    "\r\n",
    "def calc_nodes(t):\r\n",
    "    if type(t) == str:\r\n",
    "        return 0\r\n",
    "    else:\r\n",
    "        val = 0\r\n",
    "        for child in t:\r\n",
    "            val += calc_nodes(child)+1\r\n",
    "        return val\r\n",
    "\r\n",
    "def calc_yngve(t, par):\r\n",
    "    if type(t) == str:\r\n",
    "        return par\r\n",
    "    else:\r\n",
    "        val = 0\r\n",
    "        for i, child in enumerate(reversed(t)):\r\n",
    "            val += calc_yngve(child, par+i)\r\n",
    "        return val\r\n",
    "\r\n",
    "def is_sent(val):\r\n",
    "    return len(val) > 0 and val[0] == \"S\"\r\n",
    "\r\n",
    "def calc_frazier(t, par, par_lab):\r\n",
    "    # print t\r\n",
    "    # print par\r\n",
    "    if type(t) == str:\r\n",
    "        # print par-1\r\n",
    "        return par-1\r\n",
    "    else:\r\n",
    "        val = 0\r\n",
    "        for i, child in enumerate(t):\r\n",
    "            # For all but the leftmost child, zero\r\n",
    "            score = 0\r\n",
    "            if i == 0:\r\n",
    "                my_lab = t.node\r\n",
    "                # If it's a sentence, and not duplicated, add 1.5\r\n",
    "                if is_sent(my_lab):\r\n",
    "                    score = (0 if is_sent(par_lab) else par+1.5)\r\n",
    "                # Otherwise, unless it's a root node, add one\r\n",
    "                elif my_lab != \"\" and my_lab != \"ROOT\" and my_lab != \"TOP\":\r\n",
    "                    score = par + 1\r\n",
    "            val += calc_frazier(child, score, my_lab)\r\n",
    "        return val"
   ],
   "outputs": [],
   "metadata": {}
  },
  {
   "cell_type": "code",
   "execution_count": 9,
   "source": [
    "sents = 0\r\n",
    "words_tot = 0\r\n",
    "yngve_tot = 0\r\n",
    "frazier_tot = 0\r\n",
    "nodes_tot = 0\r\n",
    "\r\n",
    "t = Tree.parse(sentence)\r\n",
    "words = calc_words(t)\r\n",
    "words_tot += words\r\n",
    "sents += 1\r\n",
    "yngve = calc_yngve(t, 0)\r\n",
    "yngve_avg = float(yngve)/words\r\n",
    "yngve_tot += yngve_avg\r\n",
    "nodes = calc_nodes(t)\r\n",
    "nodes_avg = float(nodes)/words\r\n",
    "nodes_tot += nodes_avg\r\n",
    "frazier = calc_frazier(t, 0, \"\")\r\n",
    "frazier_avg = float(frazier)/words\r\n",
    "frazier_tot += frazier_avg\r\n",
    "yngve_avg = float(yngve_tot)/sents\r\n",
    "frazier_avg = float(frazier_tot)/sents\r\n",
    "nodes_avg = float(nodes_tot)/sents\r\n",
    "words_avg = float(words_tot)/sents\r\n",
    "print (sents, words_avg, yngve_avg, frazier_avg, nodes_avg)"
   ],
   "outputs": [
    {
     "output_type": "error",
     "ename": "AttributeError",
     "evalue": "type object 'Tree' has no attribute 'parse'",
     "traceback": [
      "\u001b[1;31m---------------------------------------------------------------------------\u001b[0m",
      "\u001b[1;31mAttributeError\u001b[0m                            Traceback (most recent call last)",
      "\u001b[1;32m<ipython-input-9-5283174cbeee>\u001b[0m in \u001b[0;36m<module>\u001b[1;34m\u001b[0m\n\u001b[0;32m      5\u001b[0m \u001b[0mnodes_tot\u001b[0m \u001b[1;33m=\u001b[0m \u001b[1;36m0\u001b[0m\u001b[1;33m\u001b[0m\u001b[1;33m\u001b[0m\u001b[0m\n\u001b[0;32m      6\u001b[0m \u001b[1;33m\u001b[0m\u001b[0m\n\u001b[1;32m----> 7\u001b[1;33m \u001b[0mt\u001b[0m \u001b[1;33m=\u001b[0m \u001b[0mTree\u001b[0m\u001b[1;33m.\u001b[0m\u001b[0mparse\u001b[0m\u001b[1;33m(\u001b[0m\u001b[0msentence\u001b[0m\u001b[1;33m)\u001b[0m\u001b[1;33m\u001b[0m\u001b[1;33m\u001b[0m\u001b[0m\n\u001b[0m\u001b[0;32m      8\u001b[0m \u001b[0mwords\u001b[0m \u001b[1;33m=\u001b[0m \u001b[0mcalc_words\u001b[0m\u001b[1;33m(\u001b[0m\u001b[0mt\u001b[0m\u001b[1;33m)\u001b[0m\u001b[1;33m\u001b[0m\u001b[1;33m\u001b[0m\u001b[0m\n\u001b[0;32m      9\u001b[0m \u001b[0mwords_tot\u001b[0m \u001b[1;33m+=\u001b[0m \u001b[0mwords\u001b[0m\u001b[1;33m\u001b[0m\u001b[1;33m\u001b[0m\u001b[0m\n",
      "\u001b[1;31mAttributeError\u001b[0m: type object 'Tree' has no attribute 'parse'"
     ]
    }
   ],
   "metadata": {}
  },
  {
   "cell_type": "code",
   "execution_count": null,
   "source": [],
   "outputs": [],
   "metadata": {}
  }
 ],
 "metadata": {
  "orig_nbformat": 4,
  "language_info": {
   "name": "python",
   "version": "3.8.5",
   "mimetype": "text/x-python",
   "codemirror_mode": {
    "name": "ipython",
    "version": 3
   },
   "pygments_lexer": "ipython3",
   "nbconvert_exporter": "python",
   "file_extension": ".py"
  },
  "kernelspec": {
   "name": "python3",
   "display_name": "Python 3.8.5 64-bit ('base': conda)"
  },
  "interpreter": {
   "hash": "183bbf6827d058c2a2fb0f4acdc0420849dda2b4380af0e437e38c64d798d8b7"
  }
 },
 "nbformat": 4,
 "nbformat_minor": 2
}