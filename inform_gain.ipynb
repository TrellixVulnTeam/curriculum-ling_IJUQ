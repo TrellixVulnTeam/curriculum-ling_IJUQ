{
 "cells": [
  {
   "cell_type": "code",
   "execution_count": 2,
   "source": [
    "from math import log2\r\n",
    "\r\n",
    "def get_dataset_entropy(class_counter, n_total):\r\n",
    "  entropy = 0\r\n",
    "  for label in class_counter.keys():\r\n",
    "    prob = class_counter[label] / n_total\r\n",
    "    prob_entropy = prob * log2(prob)\r\n",
    "    #print(label)\r\n",
    "    #print(prob)\r\n",
    "    #print(prob_entropy)\r\n",
    "    entropy += -prob_entropy\r\n",
    "  return entropy\r\n",
    "\r\n",
    "def get_information_gain(loss_main, loss_control, entropy):\r\n",
    "  gain = loss_control - loss_main \r\n",
    "  gain_percent = gain / entropy\r\n",
    "  return gain, gain_percent"
   ],
   "outputs": [],
   "metadata": {}
  },
  {
   "cell_type": "code",
   "execution_count": 3,
   "source": [
    "import jiant.utils.python.io as py_io\r\n",
    "\r\n",
    "def count_example_per_class(data_pth):\r\n",
    "    class_counter = {}\r\n",
    "    examples = []\r\n",
    "    total_n_exmaples = 0\r\n",
    "    dataset = py_io.read_json(data_pth, mode=\"r\")\r\n",
    "    for key in dataset.keys():\r\n",
    "        for target in dataset[key]['targets']:\r\n",
    "            total_n_exmaples += 1\r\n",
    "            label = target['label']\r\n",
    "            if label in class_counter.keys():\r\n",
    "                class_counter[label] += 1\r\n",
    "            else:\r\n",
    "                class_counter[label] = 1\r\n",
    "    return class_counter, total_n_exmaples\r\n",
    "\r\n",
    "test_data_counter, test_n_total = count_example_per_class(\"data/edge_probe/relation_data_val.json\")\r\n",
    "print(test_data_counter)"
   ],
   "outputs": [
    {
     "output_type": "stream",
     "name": "stdout",
     "text": [
      "{'no_relation': 131006, 'concept_2_relation': 21449, 'relation_2_concpet': 21449, 'concept_2_modifier': 26856, 'modifier_2_concept': 26856, 'relation_2_relation': 28158, 'relation_2_modifier': 6170, 'modifier_2_relation': 6170}\n"
     ]
    }
   ],
   "metadata": {}
  },
  {
   "cell_type": "code",
   "execution_count": 4,
   "source": [
    "test_entropy = get_dataset_entropy(test_data_counter, test_n_total)\r\n",
    "info_gain, gain_percent = get_information_gain(0.1674, 1.5916, test_entropy)\r\n",
    "print(\"Mutual Information Gain: \", info_gain)\r\n",
    "print(\"Mutual Infromation Gain Percentage: \", gain_percent)"
   ],
   "outputs": [
    {
     "output_type": "stream",
     "name": "stdout",
     "text": [
      "Mutual Information Gain:  1.4242\n",
      "Mutual Infromation Gain Percentage:  0.6073943059287257\n"
     ]
    }
   ],
   "metadata": {}
  },
  {
   "cell_type": "code",
   "execution_count": 5,
   "source": [
    "test_entropy = get_dataset_entropy(test_data_counter, test_n_total)\r\n",
    "info_gain, gain_percent = get_information_gain(0.1674, 1.9065, test_entropy)\r\n",
    "print(\"Mutual Information Gain: \", info_gain)\r\n",
    "print(\"Mutual Infromation Gain Percentage: \", gain_percent)"
   ],
   "outputs": [
    {
     "output_type": "stream",
     "name": "stdout",
     "text": [
      "Mutual Information Gain:  1.7391\n",
      "Mutual Infromation Gain Percentage:  0.7416931873617799\n"
     ]
    }
   ],
   "metadata": {}
  },
  {
   "cell_type": "code",
   "execution_count": null,
   "source": [],
   "outputs": [],
   "metadata": {}
  }
 ],
 "metadata": {
  "orig_nbformat": 4,
  "language_info": {
   "name": "python"
  }
 },
 "nbformat": 4,
 "nbformat_minor": 2
}